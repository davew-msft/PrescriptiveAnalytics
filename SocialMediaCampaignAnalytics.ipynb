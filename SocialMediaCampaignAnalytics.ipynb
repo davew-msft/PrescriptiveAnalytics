{
  "cells": [
    {
      "cell_type": "markdown",
      "source": [
        "<div class=\"alert alert-info\" role=\"alert\">\r\n",
        "    <center><h1 style=\"color:red;\"><strong><font color = red>Social Media Campaign Analytics:<br>Should we INCREASE our investment in social media marketing?\r\n",
        "    <br>--or--\r\n",
        "    <br>The Problem with Sampling</font></strong></h1></center><br>\r\n",
        "</div>\r\n",
        "<br><br>\r\n",
        "\r\n",
        "`Whenever you deal with a \"sampling\" problem you need to be VERY careful when drawing conclusions.  Think about every election that\r\n",
        "was predicted to be a landslide, but wasn't.  Let's look at a marketing example.`\r\n",
        "\r\n",
        "## Business Problem \r\n",
        "\r\n",
        "You are a business analyst, called to a meeting with your executive team to help with some marketing analytics.  CMO Sheila says,...\r\n",
        "\r\n",
        "![](https://raw.githubusercontent.com/davew-msft/PrescriptiveAnalytics/sparkconf/slides/cmo.jpg)\r\n",
        "\r\n",
        ">Last quarter was the best quarter in our history.  We crushed Wall Streets earning targets by a wide margin.  I am POSITIVE \r\n",
        "that the **key reason** was our **revamped digital advertising campaigns**.  Last summer we conducted a **comprehensive** survey \r\n",
        "of our social media usage at our **mall stores** which I plotted in this **pie chart**:\r\n",
        "\r\n",
        "![](https://raw.githubusercontent.com/davew-msft/PrescriptiveAnalytics/sparkconf/slides/pieChart.png)\r\n",
        "\r\n",
        "She continues...\r\n",
        "\r\n",
        ">You can see from the pie chart that our **Instagram presence is expanding**. 52% of survey respondents said they learned \r\n",
        "about our company from Instagram. **We should double-down on our Instagram ads** to continue our earnings growth \r\n",
        "trajectory.\r\n",
        "\r\n",
        "### Your CEO is skeptical...\r\n",
        "\r\n",
        "...before investing more budget to targeted IG campaigns your CEO asks you to explore the data a bit.  You think it is best to do this\r\n",
        "as part of a group _Design Thinking_ session where we can interactively look at the data and problem together, hypothesize, and come \r\n",
        "to a conclusion about _what do we do next?_.  \r\n",
        "\r\n",
        ">Half of my marketing dollars are wasted.  The problem is, I don't know which half?  --John Wanamaker\r\n",
        "\r\n",
        "<img src=\"https://raw.githubusercontent.com/davew-msft/PrescriptiveAnalytics/sparkconf/slides/jw.jpg\" width=\"50\">\r\n",
        "\r\n",
        "## Design Thinking Session\r\n",
        "\r\n",
        "You think that it might be a good idea to start by looking at how the survey questions were designed.  The way questions are asked can\r\n",
        "greatly influence the outcome of a survey.  \r\n",
        "\r\n",
        ">There's a whole science behind asking questions in surveys.  Too much to write about here.  \r\n",
        "\r\n",
        "Here is the actual survey that was used: \r\n",
        "\r\n",
        "![](https://raw.githubusercontent.com/davew-msft/PrescriptiveAnalytics/sparkconf/slides/survey.png)\r\n",
        "\r\n",
        "OK.  That's a pretty simple survey.  You also find out that the folks conducting the survey were guessing at the **age range** of the\r\n",
        "respondents and capturing that information as well.  That's great!  \r\n",
        "\r\n",
        "### Possible Issues\r\n",
        "\r\n",
        "Your _Design Thinking_ team uncovers some _possible_ issues with this survey _experiment_.  And we build our hypotheses **before \r\n",
        "looking at the data**.  \r\n",
        "\r\n",
        "* There _might_ be **sampling bias**.  You could make the case that the survey is biased towards store customers that are social\r\n",
        "media users and that might not be reflective of all customers who visit the store.  CMO Sheila does *not* believe the survey was biased.  \r\n",
        "\r\n",
        "You ask to see Sheila's data and she relunctantly provides it.  \r\n",
        "\r\n",
        "## Exploratory Data Analytics\r\n",
        "\r\n",
        "It's time to look at some data.  "
      ],
      "metadata": {
        "nteract": {
          "transient": {
            "deleting": false
          }
        }
      }
    },
    {
      "cell_type": "code",
      "source": [
        "## my standard spark template\r\n",
        "## we also load a bunch of packages via requirements.txt\r\n",
        "\r\n",
        "from pyspark.sql import SparkSession\r\n",
        "from pyspark.sql.types import *\r\n",
        "from pyspark.sql.functions import *\r\n"
      ],
      "outputs": [
        {
          "output_type": "display_data",
          "data": {
            "application/vnd.livy.statement-meta+json": {
              "spark_pool": "SparkPool002",
              "session_id": 6,
              "statement_id": 2,
              "state": "finished",
              "livy_statement_state": "available",
              "queued_time": "2022-02-18T14:17:38.1954019Z",
              "session_start_time": null,
              "execution_start_time": "2022-02-18T14:17:38.3835638Z",
              "execution_finish_time": "2022-02-18T14:17:38.5314491Z"
            },
            "text/plain": "StatementMeta(SparkPool002, 6, 2, Finished, Available)"
          },
          "metadata": {}
        }
      ],
      "execution_count": 2,
      "metadata": {
        "jupyter": {
          "source_hidden": false,
          "outputs_hidden": false
        },
        "nteract": {
          "transient": {
            "deleting": false
          }
        }
      }
    },
    {
      "cell_type": "code",
      "source": [
        "\r\n",
        "# This notebook uses synapse.  Make sure you run requirements.txt as part of the Spark cluster setup.  \r\n",
        "# This notebook assumes you've done that\r\n",
        "\r\n",
        "\r\n",
        "# vars\r\n",
        "# https://davewdemodata.dfs.core.windows.net/lake/MarketingAnalytics/surveys.csv\r\n",
        "# let's use a SAS token so this is reproducible for everyone\r\n",
        "#\r\n",
        "\r\n",
        "storageAccount='davewdemodata'\r\n",
        "container='lake'\r\n",
        "sasToken='sv=2020-10-02&st=2021-02-17T16%3A26%3A00Z&se=2030-02-18T16%3A26%3A00Z&sr=c&sp=rl&sig=UrdPIPkBQsgvD5pZhKn0KYL0Ziyb8zaXeeLw1fhA68s%3D'\r\n",
        "lakepath='wasbs://{}@{}.blob.core.windows.net/MarketingAnalytics/surveys.csv'.format(container,storageAccount)\r\n",
        "\r\n",
        "sc._jsc.hadoopConfiguration().set(\"fs.azure.sas.{0}.{1}.blob.core.windows.net\".format(container,storageAccount), sasToken)"
      ],
      "outputs": [
        {
          "output_type": "display_data",
          "data": {
            "application/vnd.livy.statement-meta+json": {
              "spark_pool": "SparkPool002",
              "session_id": 6,
              "statement_id": 3,
              "state": "finished",
              "livy_statement_state": "available",
              "queued_time": "2022-02-18T14:17:38.2403514Z",
              "session_start_time": null,
              "execution_start_time": "2022-02-18T14:17:38.6241426Z",
              "execution_finish_time": "2022-02-18T14:17:38.7630074Z"
            },
            "text/plain": "StatementMeta(SparkPool002, 6, 3, Finished, Available)"
          },
          "metadata": {}
        }
      ],
      "execution_count": 3,
      "metadata": {
        "jupyter": {
          "source_hidden": false,
          "outputs_hidden": false
        },
        "nteract": {
          "transient": {
            "deleting": false
          }
        }
      }
    },
    {
      "cell_type": "code",
      "source": [
        "## let's load up the file and take a look\r\n",
        "dfSurvey = spark.read \\\r\n",
        "    .option('header','true') \\\r\n",
        "    .option('delimiter', ',') \\\r\n",
        "    .csv (lakepath)\r\n",
        "display(dfSurvey.show(5))\r\n",
        "dfSurvey.printSchema()\r\n",
        "dfSurvey.registerTempTable(\"dfSurvey\")"
      ],
      "outputs": [
        {
          "output_type": "display_data",
          "data": {
            "application/vnd.livy.statement-meta+json": {
              "spark_pool": "SparkPool002",
              "session_id": 6,
              "statement_id": 4,
              "state": "finished",
              "livy_statement_state": "available",
              "queued_time": "2022-02-18T14:17:38.3090286Z",
              "session_start_time": null,
              "execution_start_time": "2022-02-18T14:17:38.8582855Z",
              "execution_finish_time": "2022-02-18T14:17:47.6856993Z"
            },
            "text/plain": "StatementMeta(SparkPool002, 6, 4, Finished, Available)"
          },
          "metadata": {}
        },
        {
          "output_type": "stream",
          "name": "stdout",
          "text": [
            "+----------------+---------+----------+-----------+--------------------+--------------+----------+\n|SurveyResponseId|Responded|SurveyDate| SurveyTime|SocialMediaAwareness|SocMedProperty|AgeBracket|\n+----------------+---------+----------+-----------+--------------------+--------------+----------+\n|               1|    FALSE| 7/14/2020| 9:13:00 AM|                null|          null|      null|\n|               2|    FALSE| 7/14/2020|10:13:00 AM|                null|          null|      null|\n|               3|    FALSE| 7/14/2020|11:13:00 AM|                null|          null|      null|\n|               4|    FALSE| 7/14/2020|12:13:00 PM|                null|          null|      null|\n|               5|    FALSE| 7/14/2020| 1:13:00 PM|                null|          null|      null|\n+----------------+---------+----------+-----------+--------------------+--------------+----------+\nonly showing top 5 rows\n\nroot\n |-- SurveyResponseId: string (nullable = true)\n |-- Responded: string (nullable = true)\n |-- SurveyDate: string (nullable = true)\n |-- SurveyTime: string (nullable = true)\n |-- SocialMediaAwareness: string (nullable = true)\n |-- SocMedProperty: string (nullable = true)\n |-- AgeBracket: string (nullable = true)"
          ]
        }
      ],
      "execution_count": 4,
      "metadata": {
        "jupyter": {
          "source_hidden": false,
          "outputs_hidden": false
        },
        "nteract": {
          "transient": {
            "deleting": false
          }
        }
      }
    },
    {
      "cell_type": "code",
      "source": [
        "## start with summary to do Basic EDA (Exploratory Data Analytics)\r\n",
        "display (dfSurvey.summary())"
      ],
      "outputs": [
        {
          "output_type": "display_data",
          "data": {
            "application/vnd.livy.statement-meta+json": {
              "spark_pool": "SparkPool002",
              "session_id": 6,
              "statement_id": 5,
              "state": "finished",
              "livy_statement_state": "available",
              "queued_time": "2022-02-18T14:17:38.3744415Z",
              "session_start_time": null,
              "execution_start_time": "2022-02-18T14:17:47.790371Z",
              "execution_finish_time": "2022-02-18T14:17:54.5961242Z"
            },
            "text/plain": "StatementMeta(SparkPool002, 6, 5, Finished, Available)"
          },
          "metadata": {}
        },
        {
          "output_type": "display_data",
          "data": {
            "application/vnd.synapse.widget-view+json": {
              "widget_id": "f26e3799-3bb8-41bf-a8c9-7262b050c7ac",
              "widget_type": "Synapse.DataFrame"
            },
            "text/plain": "SynapseWidget(Synapse.DataFrame, f26e3799-3bb8-41bf-a8c9-7262b050c7ac)"
          },
          "metadata": {}
        }
      ],
      "execution_count": 5,
      "metadata": {
        "jupyter": {
          "source_hidden": false,
          "outputs_hidden": false
        },
        "nteract": {
          "transient": {
            "deleting": false
          }
        },
        "collapsed": false
      }
    },
    {
      "cell_type": "markdown",
      "source": [
        "### Interpretation\r\n",
        "\r\n",
        "![](https://raw.githubusercontent.com/davew-msft/PrescriptiveAnalytics/sparkconf/slides/results01.png)\r\n",
        "\r\n",
        "* 363 rows:  this is the total number of surveys.  Is this enough?  \r\n",
        "* ...but it looks like `Responded` is TRUE/FALSE.  After discussing you learn that there were 363 _attempts_ to get a survey answered\r\n",
        "* it looks like there is only one `SurveyDate`...that's weird.  \r\n",
        "\r\n",
        "Let's dig in with a little SQL\r\n"
      ],
      "metadata": {
        "nteract": {
          "transient": {
            "deleting": false
          }
        }
      }
    },
    {
      "cell_type": "markdown",
      "source": [
        "## Basic Exploratory Data Analysis"
      ],
      "metadata": {
        "nteract": {
          "transient": {
            "deleting": false
          }
        }
      }
    },
    {
      "cell_type": "code",
      "source": [
        "%%sql \r\n",
        "\r\n",
        "--number responded vs not\r\n",
        "--a pie chart might be a good visual here\r\n",
        "SELECT Responded, count(*) Count\r\n",
        "from dfSurvey\r\n",
        "group by Responded"
      ],
      "outputs": [
        {
          "output_type": "display_data",
          "data": {
            "application/vnd.livy.statement-meta+json": {
              "spark_pool": "SparkPool002",
              "session_id": 6,
              "statement_id": 6,
              "state": "finished",
              "livy_statement_state": "available",
              "queued_time": "2022-02-18T14:17:38.4121302Z",
              "session_start_time": null,
              "execution_start_time": "2022-02-18T14:17:54.7082147Z",
              "execution_finish_time": "2022-02-18T14:18:07.2833146Z"
            },
            "text/plain": "StatementMeta(SparkPool002, 6, 6, Finished, Available)"
          },
          "metadata": {}
        },
        {
          "output_type": "execute_result",
          "execution_count": 6,
          "data": {
            "application/vnd.synapse.sparksql-result+json": {
              "schema": {
                "type": "struct",
                "fields": [
                  {
                    "name": "Responded",
                    "type": "string",
                    "nullable": true,
                    "metadata": {}
                  },
                  {
                    "name": "Count",
                    "type": "long",
                    "nullable": false,
                    "metadata": {}
                  }
                ]
              },
              "data": [
                [
                  "FALSE",
                  "235"
                ],
                [
                  "TRUE",
                  "128"
                ]
              ]
            },
            "text/plain": "<Spark SQL result set with 2 rows and 2 fields>"
          },
          "metadata": {}
        }
      ],
      "execution_count": 6,
      "metadata": {
        "jupyter": {
          "source_hidden": false,
          "outputs_hidden": false
        },
        "nteract": {
          "transient": {
            "deleting": false
          }
        },
        "microsoft": {
          "language": "sparksql"
        },
        "collapsed": false
      }
    },
    {
      "cell_type": "markdown",
      "source": [
        "### Interpretation\r\n",
        "\r\n",
        "\r\n",
        "![](https://raw.githubusercontent.com/davew-msft/PrescriptiveAnalytics/sparkconf/slides/results02.png)\r\n",
        "\r\n",
        "|||\r\n",
        "|---|---|\r\n",
        "|Respondents|128|\r\n",
        "|People who didn't respond|235|\r\n",
        "|Total Asked|363|\r\n",
        "|**Response Rate**|**35%**|\r\n",
        "\r\n",
        "**A 35% response rate is not that great.  That's a possible problem.**"
      ],
      "metadata": {
        "nteract": {
          "transient": {
            "deleting": false
          }
        }
      }
    },
    {
      "cell_type": "markdown",
      "source": [
        "## _HOW_ was the survey conducted?  \r\n",
        "\r\n",
        "Sheila tells you the survey was conducted just inside the entrance of a single retail store in a California mall location \r\n",
        "**as the shoppers were leaving the store**. \r\n",
        "\r\n",
        "**That's horrible** ...but let's look closer at the data.  \r\n",
        "\r\n",
        "_When_ was the survey conducted?  \r\n",
        "\r\n",
        "\r\n",
        "\r\n"
      ],
      "metadata": {
        "nteract": {
          "transient": {
            "deleting": false
          }
        }
      }
    },
    {
      "cell_type": "code",
      "source": [
        "%%sql \r\n",
        "\r\n",
        "--dates of surveys\r\n",
        "SELECT distinct SurveyDate, date_format(to_date(SurveyDate,'MM/dd/yyyy'),'EEEE') AS DayOfWeek\r\n",
        "from dfSurvey\r\n",
        "ORDER BY SurveyDate;\r\n",
        "\r\n",
        "--time ranges of surveys\r\n",
        "SELECT \r\n",
        "    min(to_timestamp(SurveyTime, 'hh:mm:ss aa'))  AS MinSurveyTime,\r\n",
        "    max(to_timestamp(SurveyTime, 'hh:mm:ss aa'))  AS MaxSurveyTime\r\n",
        "FROM dfSurvey;"
      ],
      "outputs": [
        {
          "output_type": "display_data",
          "data": {
            "application/vnd.livy.statement-meta+json": {
              "spark_pool": null,
              "session_id": 6,
              "statement_id": -1,
              "state": "finished",
              "livy_statement_state": "available",
              "queued_time": "2022-02-18T14:17:38.4629922Z",
              "session_start_time": null,
              "execution_start_time": "2022-02-18T14:18:10.4675287Z",
              "execution_finish_time": "2022-02-18T14:18:10.4681491Z"
            },
            "text/plain": "StatementMeta(, 6, -1, Finished, Available)"
          },
          "metadata": {}
        },
        {
          "output_type": "execute_result",
          "execution_count": 7,
          "data": {
            "application/vnd.synapse.sparksql-result+json": {
              "schema": {
                "type": "struct",
                "fields": [
                  {
                    "name": "SurveyDate",
                    "type": "string",
                    "nullable": true,
                    "metadata": {}
                  },
                  {
                    "name": "DayOfWeek",
                    "type": "string",
                    "nullable": true,
                    "metadata": {}
                  }
                ]
              },
              "data": [
                [
                  "7/14/2020",
                  "Tuesday"
                ]
              ]
            },
            "text/plain": "<Spark SQL result set with 1 rows and 2 fields>"
          },
          "metadata": {}
        },
        {
          "output_type": "execute_result",
          "execution_count": 7,
          "data": {
            "application/vnd.synapse.sparksql-result+json": {
              "schema": {
                "type": "struct",
                "fields": [
                  {
                    "name": "MinSurveyTime",
                    "type": "timestamp",
                    "nullable": true,
                    "metadata": {}
                  },
                  {
                    "name": "MaxSurveyTime",
                    "type": "timestamp",
                    "nullable": true,
                    "metadata": {}
                  }
                ]
              },
              "data": [
                [
                  "1970-01-01T09:02:00Z",
                  "1970-01-01T16:58:00Z"
                ]
              ]
            },
            "text/plain": "<Spark SQL result set with 1 rows and 2 fields>"
          },
          "metadata": {}
        }
      ],
      "execution_count": 7,
      "metadata": {
        "jupyter": {
          "source_hidden": false,
          "outputs_hidden": false
        },
        "nteract": {
          "transient": {
            "deleting": false
          }
        },
        "microsoft": {
          "language": "sparksql"
        },
        "collapsed": false
      }
    },
    {
      "cell_type": "markdown",
      "source": [
        "### Interpretation\r\n",
        "\r\n",
        "![](https://raw.githubusercontent.com/davew-msft/PrescriptiveAnalytics/sparkconf/slides/results03.png)\r\n",
        "\r\n",
        "* Surveys were conducted on a SINGLE day, a Tuesday.  \r\n",
        "* The surveys were conducted from 9-5 on a summer day.  \r\n",
        "\r\n",
        "If we think through this we should see some red flags.  \r\n",
        "\r\n",
        "* Based on those times and the fact that this is a summer day, we should see **a lot of children or retired folks** that are not at work that day.  \r\n",
        "\r\n",
        "Sheila provides you with this summary:  \r\n",
        "\r\n",
        "|Age Bracket|Respondents|\r\n",
        "|----|----|\r\n",
        "|12-20|68%|\r\n",
        "|20-40|15%|\r\n",
        "|40-65|12%|\r\n",
        "|65+|5%|\r\n",
        "\r\n",
        "...and says...\r\n",
        "\r\n",
        ">**83% of the \"Under Age 40\" demographic** are captured in the survey and this closely matches our **target sales demographic**.  \r\n",
        "\r\n",
        "But, clearly that is misrepresenting the data.  You know that it's easy to **_confuse_ with numbers** if you aggregate the data in certain ways.  \r\n",
        "This looks like one of those cases.  While the **'Under Age 40' demographic** is our target consumer, clearly we are heavily **skewed towards children**.  \r\n",
        "\r\n",
        "_Our actual target demographic, and the ones that will spend the most, was likely at work when the survey was conducted._\r\n",
        "\r\n",
        ">One common way people make **cognitive mistakes** with data is by `inappropriately aggregating data`.  ([Simpson's \r\n",
        "Paradox](https://en.wikipedia.org/wiki/Simpson%27s_paradox) is one reason).  Be careful!!\r\n",
        "\r\n"
      ],
      "metadata": {
        "nteract": {
          "transient": {
            "deleting": false
          }
        }
      }
    },
    {
      "cell_type": "markdown",
      "source": [
        "## Interpretation\r\n",
        "\r\n",
        "\r\n",
        "Remember this chart supplied by your CMO?\r\n",
        "\r\n",
        "![](https://raw.githubusercontent.com/davew-msft/PrescriptiveAnalytics/sparkconf/slides/pieChart.png)\r\n",
        "\r\n",
        "We think a better way to display this data is:\r\n",
        "\r\n",
        "|||\r\n",
        "|---|---|\r\n",
        "||%Respondents|\r\n",
        "|All Social Media|43%|\r\n",
        "|Instagram|22%|\r\n",
        "|Facebook|9%|\r\n",
        "\r\n",
        "This is a much different way to think about this data.  There are other \"issues\" with this survey and data analysis, but I'll leave that as an exercise for the \r\n",
        "reader.  \r\n",
        "\r\n",
        "## Recommendation\r\n",
        "\r\n",
        "**The data does not support additional investments in Instagram**. If we follow the CMO's recommendation we should be aware that we will be potentially be targeting\r\n",
        "the wrong demographic.  \r\n",
        "\r\n",
        " We need to design a better experiment taking the above recommendations into consideration.\r\n",
        "   * The survey design is fundamentally flawed\r\n",
        "   * There is statistical bias in the data\r\n",
        "   * There is sampling bias in the data\r\n",
        "\r\n"
      ],
      "metadata": {
        "nteract": {
          "transient": {
            "deleting": false
          }
        }
      }
    }
  ],
  "metadata": {
    "kernelspec": {
      "name": "synapse_pyspark",
      "language": "Python",
      "display_name": "Synapse PySpark"
    },
    "language_info": {
      "name": "python"
    },
    "kernel_info": {
      "name": "synapse_pyspark"
    },
    "save_output": true,
    "synapse_widget": {
      "version": "0.1",
      "state": {
        "f26e3799-3bb8-41bf-a8c9-7262b050c7ac": {
          "type": "Synapse.DataFrame",
          "sync_state": {
            "table": {
              "rows": [
                {
                  "0": "count",
                  "1": "363",
                  "2": "363",
                  "3": "363",
                  "4": "363",
                  "5": "128",
                  "6": "79",
                  "7": "128"
                },
                {
                  "0": "mean",
                  "1": "182.0"
                },
                {
                  "0": "stddev",
                  "1": "104.93331215586402"
                },
                {
                  "0": "min",
                  "1": "1",
                  "2": "FALSE",
                  "3": "7/14/2020",
                  "4": "10:01:00 AM",
                  "5": "FALSE",
                  "6": "Facebook",
                  "7": "20-40"
                },
                {
                  "0": "25%",
                  "1": "91.0"
                },
                {
                  "0": "50%",
                  "1": "182.0"
                },
                {
                  "0": "75%",
                  "1": "273.0"
                },
                {
                  "0": "max",
                  "1": "99",
                  "2": "TRUE",
                  "3": "7/14/2020",
                  "4": "9:57:00 AM",
                  "5": "TRUE",
                  "6": "Twitter",
                  "7": "65+"
                }
              ],
              "schema": [
                {
                  "key": "0",
                  "name": "summary",
                  "type": "string"
                },
                {
                  "key": "1",
                  "name": "SurveyResponseId",
                  "type": "string"
                },
                {
                  "key": "2",
                  "name": "Responded",
                  "type": "string"
                },
                {
                  "key": "3",
                  "name": "SurveyDate",
                  "type": "string"
                },
                {
                  "key": "4",
                  "name": "SurveyTime",
                  "type": "string"
                },
                {
                  "key": "5",
                  "name": "SocialMediaAwareness",
                  "type": "string"
                },
                {
                  "key": "6",
                  "name": "SocMedProperty",
                  "type": "string"
                },
                {
                  "key": "7",
                  "name": "AgeBracket",
                  "type": "string"
                }
              ],
              "truncated": false
            },
            "isSummary": false,
            "language": "scala"
          },
          "persist_state": {
            "view": {
              "type": "details",
              "tableOptions": {},
              "chartOptions": {
                "chartType": "bar",
                "aggregationType": "count",
                "categoryFieldKeys": [
                  "0"
                ],
                "seriesFieldKeys": [
                  "0"
                ],
                "isStacked": false
              }
            }
          }
        }
      }
    }
  },
  "nbformat": 4,
  "nbformat_minor": 2
}