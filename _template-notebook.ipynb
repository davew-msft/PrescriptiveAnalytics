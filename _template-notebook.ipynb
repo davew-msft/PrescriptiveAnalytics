{
 "cells": [
  {
   "cell_type": "markdown",
   "metadata": {},
   "source": [
    "## This is my template notebook\n",
    "\n",
    "This has all the tooling exactly how I like it.  \n",
    "\n",
    "This keeps the python cruft to a minimum so we can focus on analytics.  "
   ]
  },
  {
   "cell_type": "code",
   "execution_count": null,
   "metadata": {},
   "outputs": [],
   "source": [
    "%run ./scripts/imports.py\n",
    "%run ./scripts/utils.py"
   ]
  },
  {
   "cell_type": "code",
   "execution_count": null,
   "metadata": {},
   "outputs": [],
   "source": [
    "# vars cell\n",
    "# sqlalchemy-formatted strings for Jupyter %sql magics to work\n",
    "sqlserver=\"asaworkspacedavew891-ondemand.sql.azuresynapse.net\"\n",
    "dbname=\"taxiAnalytics\"\n",
    "dbuname=\"asa.sql.admin\"\n",
    "##dbpwd=\n",
    "connstring = 'Driver={{ODBC Driver 18 for SQL Server}};Server=tcp:{},1433;Database={};Uid={};Pwd={};Encrypt=yes;TrustServerCertificate=yes;Connection Timeout=30;'.format(sqlserver,dbname,dbuname,dbpwd)\n",
    "connstring = urllib.parse.quote_plus(connstring)\n",
    "connstring = 'mssql+pyodbc:///?odbc_connect={}'.format(connstring)\n",
    "#print(connstring)"
   ]
  },
  {
   "cell_type": "code",
   "execution_count": null,
   "metadata": {},
   "outputs": [],
   "source": [
    "%load_ext sql"
   ]
  },
  {
   "cell_type": "code",
   "execution_count": null,
   "metadata": {},
   "outputs": [],
   "source": [
    "%sql $connstring"
   ]
  },
  {
   "cell_type": "code",
   "execution_count": null,
   "metadata": {},
   "outputs": [],
   "source": [
    "%%sql \n",
    "\n",
    "select top 1 * from taxi_2016_by_day"
   ]
  },
  {
   "cell_type": "code",
   "execution_count": null,
   "metadata": {},
   "outputs": [],
   "source": [
    "## for testing SQL connectivity\n",
    "#pyodbc.drivers()\n",
    "#engine_azure = create_engine(connstring,echo=True)\n",
    "#print(engine_azure.table_names())"
   ]
  }
 ],
 "metadata": {
  "interpreter": {
   "hash": "949777d72b0d2535278d3dc13498b2535136f6dfe0678499012e853ee9abcab1"
  },
  "kernelspec": {
   "display_name": "Python 3.7.12 64-bit",
   "language": "python",
   "name": "python3"
  },
  "language_info": {
   "codemirror_mode": {
    "name": "ipython",
    "version": 3
   },
   "file_extension": ".py",
   "mimetype": "text/x-python",
   "name": "python",
   "nbconvert_exporter": "python",
   "pygments_lexer": "ipython3",
   "version": "3.7.12"
  },
  "orig_nbformat": 4
 },
 "nbformat": 4,
 "nbformat_minor": 2
}
