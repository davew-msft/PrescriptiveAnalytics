{
 "cells": [
  {
   "cell_type": "markdown",
   "metadata": {},
   "source": [
    "<div class=\"alert alert-info\" role=\"alert\">\n",
    "    <center><h1 style=\"color:red;\"><strong><font color = red>Cognitive Mistakes with Data:<br>Which product should we buy?</font></strong></h1></center><br>\n",
    "</div>\n",
    "<br><br>\n",
    "\n",
    "## Business Problem\n",
    "\n",
    "Our company manufactures stuff.  We need to buy a new industrial drill.  There are four vendors that offer machines with similar specs at similar prices.  Our only real concern is picking the drill that is the most effective at drilling the holes we need.  \n",
    "\n",
    "Each vendor agrees to let us try out their machine in our shop.  \n",
    "\n",
    "## Experiment Design\n",
    "\n",
    "We conduct an experiment to see which is the most effective.  \n",
    "\n",
    "* Last Monday each machine was started and allowed to warm up for an hour\n",
    "* Four of our best employees used that warm up hour to learn their respective drill.  \n",
    "* They were then instructed to each drill 100 \"representative\" holes\n",
    "  * 3 inch diameter\n",
    "  * through 6in thick steel\n",
    "  * in 2 hours\n",
    "* the diameter of each hole drilled with each machine was measured and recorded.  \n",
    "\n",
    "Let's look at the data and see if we can recommend which drill should be purchased\n"
   ]
  },
  {
   "cell_type": "code",
   "execution_count": null,
   "metadata": {},
   "outputs": [],
   "source": [
    "## Exploratory Data Analysis\n",
    "\n"
   ]
  },
  {
   "cell_type": "markdown",
   "metadata": {},
   "source": [
    "## Interpretation\n",
    "\n",
    "Based on the mean, Drillxxx did the best. Would you recommend it?  \n",
    "\n",
    "Let's visualize the data\n",
    "\n",
    "Through this graph, students can see both accuracy (How\n",
    "close are the diameters of the holes drilled by one machine to\n",
    "the target of 3 inches) and precision (How consistent are the\n",
    "diameters of the holes drilled by one machine?). They can also\n",
    "see that\n",
    "Hole Maker is reasonably consistent (as we can also see in the\n",
    "last row of the table of summary statistics) and routinely\n",
    "overdrills;\n",
    "Shafts & Slips is reasonably consistent (as we can also see in\n",
    "the last row of the table of summary statistics) and routinely\n",
    "underdrills;\n",
    "Judge’s Jigs is extremely consistent (as we can also see in the\n",
    "last row of the table of summary statistics) and always\n",
    "underdrills; and\n",
    "Drill for Bits is wildly inconsistent (as we can also see in the\n",
    "last row of the table of summary statistics).\n",
    "\n",
    "\n",
    "The case does not explain the physical properties of the\n",
    "stainless steel disks or the purpose of the hole, so students\n",
    "cannot discern whether (i) a hole can be rebored or (ii) a hole\n",
    "that is too large is acceptable. This makes assessing the drills\n",
    "provided by Hole Maker and Shafts & Slips difficult.\n",
    "However, if the drills can be recalibrated, the best drill to\n",
    "purchase may be the extremely consistent product produced by\n",
    "Judge’s Jigs. This is precisely the ambiguity that I want my\n",
    "students to struggle with when analyzing a teaching case.\n",
    "Students should also note that assigning each machine to a\n",
    "different employee over the entire life of the experiment could\n",
    "result in a serious bias; the effect of the machine and employee\n",
    "are perfectly confounded. Astute students will recognize this\n",
    "problem and suggest a rotation of the four employees assigned\n",
    "to the four machines. Other students may go further and\n",
    "suggest that Weideman use more than four employees to test\n",
    "the four drills. Here I can use this teaching case to introduce\n",
    "some basic concepts of experimental design in a meaningful\n",
    "way very early in the course."
   ]
  }
 ],
 "metadata": {
  "interpreter": {
   "hash": "5c3b02fa24688d32a1d09351b7f8eac82a87272ad081601c73caead00a8e1fc4"
  },
  "kernelspec": {
   "display_name": "Python 2.7.15 32-bit (system)",
   "name": "python3"
  },
  "language_info": {
   "name": "python",
   "version": "2.7.15"
  },
  "orig_nbformat": 4
 },
 "nbformat": 4,
 "nbformat_minor": 2
}
